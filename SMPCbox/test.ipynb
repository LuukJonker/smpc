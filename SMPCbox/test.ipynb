{
 "cells": [
  {
   "cell_type": "code",
   "execution_count": 5,
   "metadata": {},
   "outputs": [
    {
     "name": "stdout",
     "output_type": "stream",
     "text": [
      "{'a': {'type': <class 'int'>, 'default': <class '__main__.NoDefault'>}, 'b': {'type': <class 'str'>, 'default': 'default'}, 'c': {'type': None, 'default': None}}\n",
      "def foo(x, y=32):\n",
      "    return x * x\n",
      "\n",
      "FullArgSpec(args=['x', 'y'], varargs=None, varkw=None, defaults=(32,), kwonlyargs=[], kwonlydefaults=None, annotations={})\n"
     ]
    }
   ],
   "source": [
    "\n",
    "def foo(x, y=32):\n",
    "    return x * x\n",
    "\n",
    "import inspect\n",
    "from typing import Any, Callable, Dict\n",
    "\n",
    "class NoDefault:\n",
    "    pass\n",
    "\n",
    "def get_function_params(func: Callable) -> Dict[str, Any]:\n",
    "    signature = inspect.signature(func)\n",
    "    params = {}\n",
    "    for name, param in signature.parameters.items():\n",
    "        param_info = {\n",
    "            'type': param.annotation if param.annotation != inspect.Parameter.empty else None,\n",
    "            'default': param.default if param.default != inspect.Parameter.empty else NoDefault,\n",
    "        }\n",
    "        params[name] = param_info\n",
    "    return params\n",
    "\n",
    "# Example usage\n",
    "def example_func(a: int, b: str = \"default\", c = None):\n",
    "    pass\n",
    "\n",
    "print(get_function_params(example_func))\n",
    "lines = inspect.getsource(foo)\n",
    "print(lines)\n",
    "print(inspect.getfullargspec(foo))"
   ]
  }
 ],
 "metadata": {
  "kernelspec": {
   "display_name": "Python 3",
   "language": "python",
   "name": "python3"
  },
  "language_info": {
   "codemirror_mode": {
    "name": "ipython",
    "version": 3
   },
   "file_extension": ".py",
   "mimetype": "text/x-python",
   "name": "python",
   "nbconvert_exporter": "python",
   "pygments_lexer": "ipython3",
   "version": "3.10.12"
  }
 },
 "nbformat": 4,
 "nbformat_minor": 2
}
